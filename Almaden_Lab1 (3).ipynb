{
 "cells": [
  {
   "cell_type": "code",
   "execution_count": 1,
   "metadata": {},
   "outputs": [
    {
     "name": "stdout",
     "output_type": "stream",
     "text": [
      "Charmander at level 15\n",
      "Pidgey at level 11\n",
      "Sandshrew at level 18\n",
      "Rattata at level 5\n",
      "Abra at level 14\n"
     ]
    }
   ],
   "source": [
    "party = ['Charmander' , 'Pidgey' , 'Sandshrew' , 'Rattata' , 'Abra']\n",
    "levels = [15 , 11 , 18 ,5 ,14]\n",
    "for parties, level in zip(party,levels):\n",
    "    print(parties, \"at level\", level)"
   ]
  },
  {
   "cell_type": "code",
   "execution_count": 2,
   "metadata": {},
   "outputs": [
    {
     "name": "stdout",
     "output_type": "stream",
     "text": [
      "dialga regigigas onix\n"
     ]
    }
   ],
   "source": [
    "reserves = ['onix', 'slowpoke', 'dialga', 'magikarp', 'feebas', 'regigigas', 'unown']\n",
    "reserves.sort()\n",
    "print(reserves[0] +\" \"+ reserves[4] +\" \"+ reserves[3])"
   ]
  },
  {
   "cell_type": "code",
   "execution_count": 3,
   "metadata": {},
   "outputs": [
    {
     "name": "stdout",
     "output_type": "stream",
     "text": [
      "['Charmander', 'Pidgey', 'Sandshrew', 'Rattata', 'Abra', 'Unown']\n",
      "['Charmander', 'Pidgey', 'Sandshrew', 'Rattata', 'Abra', 'Magikarp']\n",
      "['Charmander', 'Pidgey', 'Sandshrew', 'Rattata', 'Abra', 'Feebas']\n"
     ]
    }
   ],
   "source": [
    "party = ['Charmander' , 'Pidgey' , 'Sandshrew' , 'Rattata' , 'Abra']\n",
    "levels = [15 , 11 , 18 ,5 ,14]\n",
    "picks = [('Onix', 10), ('Slowpoke', 18), ('Dialga', 2), ('Magikarp', 32),  ('Feebas', 22), ('Regigigas', 3), ('Unown',50)]\n",
    "def create_party(picks):\n",
    "    return picks[1] \n",
    "sorted_list = sorted(picks, key=create_party, reverse=True)\n",
    "party.append(sorted_list[0][0])\n",
    "print(party)\n",
    "party.pop(5)\n",
    "party.append(sorted_list[1][0])\n",
    "print(party)\n",
    "party.pop(5)\n",
    "party.append(sorted_list[2][0])\n",
    "print(party)"
   ]
  },
  {
   "cell_type": "code",
   "execution_count": null,
   "metadata": {},
   "outputs": [],
   "source": []
  }
 ],
 "metadata": {
  "kernelspec": {
   "display_name": "Python 3",
   "language": "python",
   "name": "python3"
  },
  "language_info": {
   "codemirror_mode": {
    "name": "ipython",
    "version": 3
   },
   "file_extension": ".py",
   "mimetype": "text/x-python",
   "name": "python",
   "nbconvert_exporter": "python",
   "pygments_lexer": "ipython3",
   "version": "3.8.3"
  }
 },
 "nbformat": 4,
 "nbformat_minor": 4
}
